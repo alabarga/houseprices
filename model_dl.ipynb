{
 "cells": [
  {
   "cell_type": "markdown",
   "metadata": {},
   "source": [
    "DL"
   ]
  },
  {
   "cell_type": "code",
   "execution_count": 1,
   "metadata": {},
   "outputs": [],
   "source": [
    "%load_ext autoreload\n",
    "%autoreload 2"
   ]
  },
  {
   "cell_type": "code",
   "execution_count": 2,
   "metadata": {},
   "outputs": [],
   "source": [
    "%matplotlib inline\n",
    "\n",
    "from fastai.structured import *\n",
    "from fastai.column_data import *\n",
    "np.set_printoptions(threshold=50, edgeitems=20)\n",
    "\n",
    "PATH='data/prices/'"
   ]
  },
  {
   "cell_type": "code",
   "execution_count": 3,
   "metadata": {},
   "outputs": [],
   "source": [
    "# import the data\n",
    "train = pd.read_csv(f'{PATH}train.csv', low_memory=False)\n",
    "test = pd.read_csv(f'{PATH}test.csv', low_memory=False)"
   ]
  },
  {
   "cell_type": "markdown",
   "metadata": {},
   "source": [
    "## Feature Engineering"
   ]
  },
  {
   "cell_type": "markdown",
   "metadata": {},
   "source": [
    "Turn CentralAir and PavedDrive to booleans, to make them more convenient for modeling"
   ]
  },
  {
   "cell_type": "code",
   "execution_count": 5,
   "metadata": {},
   "outputs": [],
   "source": [
    "train.CentralAir = train.CentralAir != 'N'\n",
    "train.PavedDrive = train.PavedDrive != 'N'\n",
    "\n",
    "test.CentralAir = test.CentralAir != 'N'\n",
    "test.PavedDrive = test.PavedDrive != 'N'"
   ]
  },
  {
   "cell_type": "markdown",
   "metadata": {},
   "source": [
    "**Remove outliers**"
   ]
  },
  {
   "cell_type": "code",
   "execution_count": 4,
   "metadata": {},
   "outputs": [],
   "source": [
    "train.drop(train[(train['OverallQual']<5) & \n",
    "                   (train['SalePrice']>200000)].index,\n",
    "            inplace=True)\n",
    "train.drop(train[(train['GrLivArea']>4000) & \n",
    "                   (train['SalePrice']<300000)].index,\n",
    "            inplace=True)\n",
    "train.reset_index(drop=True, inplace=True)"
   ]
  },
  {
   "cell_type": "markdown",
   "metadata": {},
   "source": [
    "## Create Features"
   ]
  },
  {
   "cell_type": "code",
   "execution_count": 6,
   "metadata": {},
   "outputs": [],
   "source": [
    "cat_vars = ['MSZoning', 'Street', 'Alley', 'LotShape',\n",
    "            'LandContour', 'Utilities', 'LotConfig', 'LandSlope', 'Neighborhood',\n",
    "            'Condition1', 'Condition2', 'BldgType', 'HouseStyle', 'OverallQual',\n",
    "            'OverallCond', 'YearBuilt', 'YearRemodAdd', 'RoofStyle',\n",
    "            'RoofMatl', 'Exterior1st', 'Exterior2nd', 'MasVnrType', \n",
    "            'ExterQual', 'ExterCond', 'Foundation', 'BsmtQual', 'BsmtCond',\n",
    "            'BsmtExposure', 'BsmtFinType1', 'BsmtFinType2', 'Heating',\n",
    "            'HeatingQC', 'CentralAir', 'Electrical', 'BsmtFullBath', 'BsmtHalfBath',\n",
    "            'FullBath', 'HalfBath', 'BedroomAbvGr', 'KitchenAbvGr', 'KitchenQual',\n",
    "            'TotRmsAbvGrd', 'Functional', 'Fireplaces', 'FireplaceQu', 'GarageType',\n",
    "            'GarageYrBlt', 'GarageFinish', 'GarageCars', 'GarageQual', 'GarageCond',\n",
    "            'PavedDrive', 'PoolQC', 'Fence', 'MiscFeature', 'MoSold', 'YrSold', \n",
    "            'SaleType', 'SaleCondition']\n",
    "\n",
    "contin_vars = ['MSSubClass', 'LotFrontage', 'LotArea', 'MasVnrArea', 'BsmtFinSF1', 'BsmtFinSF2',\n",
    "               'BsmtUnfSF', 'TotalBsmtSF', '1stFlrSF', '2ndFlrSF', 'LowQualFinSF',\n",
    "               'GrLivArea', 'GarageArea', 'WoodDeckSF', 'OpenPorchSF', 'EnclosedPorch',\n",
    "               '3SsnPorch', 'ScreenPorch', 'PoolArea', 'MiscVal']"
   ]
  },
  {
   "cell_type": "code",
   "execution_count": 7,
   "metadata": {},
   "outputs": [
    {
     "data": {
      "text/plain": [
       "1457"
      ]
     },
     "execution_count": 7,
     "metadata": {},
     "output_type": "execute_result"
    }
   ],
   "source": [
    "n = len(train); n"
   ]
  },
  {
   "cell_type": "code",
   "execution_count": 8,
   "metadata": {},
   "outputs": [],
   "source": [
    "dep = 'SalePrice'\n",
    "train = train[cat_vars+contin_vars+[dep, 'Id']].copy()"
   ]
  },
  {
   "cell_type": "code",
   "execution_count": 9,
   "metadata": {},
   "outputs": [],
   "source": [
    "test[dep] = 0\n",
    "test = test[cat_vars+contin_vars+[dep, 'Id']].copy()"
   ]
  },
  {
   "cell_type": "code",
   "execution_count": 10,
   "metadata": {},
   "outputs": [],
   "source": [
    "for v in cat_vars: train[v] = train[v].astype('category').cat.as_ordered()"
   ]
  },
  {
   "cell_type": "code",
   "execution_count": 11,
   "metadata": {},
   "outputs": [],
   "source": [
    "apply_cats(test, train)"
   ]
  },
  {
   "cell_type": "code",
   "execution_count": 12,
   "metadata": {},
   "outputs": [],
   "source": [
    "for v in contin_vars:\n",
    "    train[v] = train[v].fillna(0).astype('float32')\n",
    "    test[v] = test[v].fillna(0).astype('float32')"
   ]
  },
  {
   "cell_type": "markdown",
   "metadata": {},
   "source": [
    "We're going to run on the full dataset"
   ]
  },
  {
   "cell_type": "code",
   "execution_count": 13,
   "metadata": {},
   "outputs": [],
   "source": [
    "samp_size = n"
   ]
  },
  {
   "cell_type": "code",
   "execution_count": 14,
   "metadata": {},
   "outputs": [],
   "source": [
    "df, y, nas, mapper = proc_df(train, 'SalePrice', do_scale=True, \n",
    "                             skip_flds=['Id'])"
   ]
  },
  {
   "cell_type": "code",
   "execution_count": 15,
   "metadata": {},
   "outputs": [],
   "source": [
    "df_test, y_test , nas, mapper = proc_df(test, 'SalePrice', do_scale=True,\n",
    "                                        skip_flds=['Id'], mapper=mapper, na_dict=nas)"
   ]
  },
  {
   "cell_type": "code",
   "execution_count": 16,
   "metadata": {},
   "outputs": [],
   "source": [
    "# randomly shuffle dataframe\n",
    "df = df.sample(frac=1)"
   ]
  },
  {
   "cell_type": "code",
   "execution_count": 17,
   "metadata": {},
   "outputs": [],
   "source": [
    "df.reset_index(drop=True, inplace=True)"
   ]
  },
  {
   "cell_type": "code",
   "execution_count": 20,
   "metadata": {},
   "outputs": [],
   "source": [
    "train_ratio = 0.75\n",
    "train_size = int(samp_size * train_ratio); train_size\n",
    "val_idx = list(range(train_size, len(df)))"
   ]
  },
  {
   "cell_type": "code",
   "execution_count": 19,
   "metadata": {},
   "outputs": [],
   "source": [
    "val_idx=[0]"
   ]
  },
  {
   "cell_type": "code",
   "execution_count": 21,
   "metadata": {},
   "outputs": [],
   "source": [
    "yl = np.log(y)"
   ]
  },
  {
   "cell_type": "code",
   "execution_count": 22,
   "metadata": {},
   "outputs": [],
   "source": [
    "def inv_y(a): return np.exp(a)\n",
    "\n",
    "def rmse(x,y): return math.sqrt(((x-y)**2).mean())\n",
    "\n",
    "def print_score(m):\n",
    "    res = [rmse(m.predict(X_train), y_train), rmse(m.predict(X_valid), y_valid),\n",
    "                m.score(X_train, y_train), m.score(X_valid, y_valid)]\n",
    "    if hasattr(m, 'oob_score_'): res.append(m.oob_score_)\n",
    "    print(res)"
   ]
  },
  {
   "cell_type": "code",
   "execution_count": 23,
   "metadata": {},
   "outputs": [],
   "source": [
    "md = ColumnarModelData.from_data_frame(PATH, val_idx, df, yl.astype(np.float32),\n",
    "                                       cat_flds=cat_vars, bs=128, test_df=df_test)\n"
   ]
  },
  {
   "cell_type": "code",
   "execution_count": 24,
   "metadata": {},
   "outputs": [
    {
     "data": {
      "text/plain": [
       "[('MSZoning', 6),\n",
       " ('Street', 3),\n",
       " ('Alley', 3),\n",
       " ('LotShape', 5),\n",
       " ('LandContour', 5),\n",
       " ('Utilities', 3),\n",
       " ('LotConfig', 6),\n",
       " ('LandSlope', 4),\n",
       " ('Neighborhood', 26),\n",
       " ('Condition1', 10),\n",
       " ('Condition2', 9),\n",
       " ('BldgType', 6),\n",
       " ('HouseStyle', 9),\n",
       " ('OverallQual', 11),\n",
       " ('OverallCond', 10),\n",
       " ('YearBuilt', 113),\n",
       " ('YearRemodAdd', 62),\n",
       " ('RoofStyle', 7),\n",
       " ('RoofMatl', 8),\n",
       " ('Exterior1st', 16),\n",
       " ('Exterior2nd', 17),\n",
       " ('MasVnrType', 5),\n",
       " ('ExterQual', 5),\n",
       " ('ExterCond', 6),\n",
       " ('Foundation', 7),\n",
       " ('BsmtQual', 5),\n",
       " ('BsmtCond', 5),\n",
       " ('BsmtExposure', 5),\n",
       " ('BsmtFinType1', 7),\n",
       " ('BsmtFinType2', 7),\n",
       " ('Heating', 7),\n",
       " ('HeatingQC', 6),\n",
       " ('CentralAir', 3),\n",
       " ('Electrical', 6),\n",
       " ('BsmtFullBath', 5),\n",
       " ('BsmtHalfBath', 4),\n",
       " ('FullBath', 5),\n",
       " ('HalfBath', 4),\n",
       " ('BedroomAbvGr', 9),\n",
       " ('KitchenAbvGr', 5),\n",
       " ('KitchenQual', 5),\n",
       " ('TotRmsAbvGrd', 13),\n",
       " ('Functional', 8),\n",
       " ('Fireplaces', 5),\n",
       " ('FireplaceQu', 6),\n",
       " ('GarageType', 7),\n",
       " ('GarageYrBlt', 98),\n",
       " ('GarageFinish', 4),\n",
       " ('GarageCars', 6),\n",
       " ('GarageQual', 6),\n",
       " ('GarageCond', 6),\n",
       " ('PavedDrive', 3),\n",
       " ('PoolQC', 4),\n",
       " ('Fence', 5),\n",
       " ('MiscFeature', 5),\n",
       " ('MoSold', 13),\n",
       " ('YrSold', 6),\n",
       " ('SaleType', 10),\n",
       " ('SaleCondition', 7)]"
      ]
     },
     "execution_count": 24,
     "metadata": {},
     "output_type": "execute_result"
    }
   ],
   "source": [
    "cat_sz = [(c, len(train[c].cat.categories)+1) for c in cat_vars]\n",
    "cat_sz"
   ]
  },
  {
   "cell_type": "code",
   "execution_count": 25,
   "metadata": {},
   "outputs": [],
   "source": [
    "emb_szs = [(c, min(50, (c+1)//2)) for _, c in cat_sz]"
   ]
  },
  {
   "cell_type": "code",
   "execution_count": 26,
   "metadata": {},
   "outputs": [
    {
     "data": {
      "text/plain": [
       "[(6, 3),\n",
       " (3, 2),\n",
       " (3, 2),\n",
       " (5, 3),\n",
       " (5, 3),\n",
       " (3, 2),\n",
       " (6, 3),\n",
       " (4, 2),\n",
       " (26, 13),\n",
       " (10, 5),\n",
       " (9, 5),\n",
       " (6, 3),\n",
       " (9, 5),\n",
       " (11, 6),\n",
       " (10, 5),\n",
       " (113, 50),\n",
       " (62, 31),\n",
       " (7, 4),\n",
       " (8, 4),\n",
       " (16, 8),\n",
       " (17, 9),\n",
       " (5, 3),\n",
       " (5, 3),\n",
       " (6, 3),\n",
       " (7, 4),\n",
       " (5, 3),\n",
       " (5, 3),\n",
       " (5, 3),\n",
       " (7, 4),\n",
       " (7, 4),\n",
       " (7, 4),\n",
       " (6, 3),\n",
       " (3, 2),\n",
       " (6, 3),\n",
       " (5, 3),\n",
       " (4, 2),\n",
       " (5, 3),\n",
       " (4, 2),\n",
       " (9, 5),\n",
       " (5, 3),\n",
       " (5, 3),\n",
       " (13, 7),\n",
       " (8, 4),\n",
       " (5, 3),\n",
       " (6, 3),\n",
       " (7, 4),\n",
       " (98, 49),\n",
       " (4, 2),\n",
       " (6, 3),\n",
       " (6, 3),\n",
       " (6, 3),\n",
       " (3, 2),\n",
       " (4, 2),\n",
       " (5, 3),\n",
       " (5, 3),\n",
       " (13, 7),\n",
       " (6, 3),\n",
       " (10, 5),\n",
       " (7, 4)]"
      ]
     },
     "execution_count": 26,
     "metadata": {},
     "output_type": "execute_result"
    }
   ],
   "source": [
    "emb_szs"
   ]
  },
  {
   "cell_type": "code",
   "execution_count": 27,
   "metadata": {},
   "outputs": [],
   "source": [
    "max_log_y = np.max(yl)\n",
    "y_range = (0, max_log_y*1.2)"
   ]
  },
  {
   "cell_type": "code",
   "execution_count": 28,
   "metadata": {},
   "outputs": [],
   "source": [
    "m = md.get_learner(emb_szs, len(df.columns)-len(cat_vars),\n",
    "                   0.04, 1, [1000, 500], [0.001, 0.01], y_range=y_range)\n",
    "lr = 1e-3"
   ]
  },
  {
   "cell_type": "code",
   "execution_count": 29,
   "metadata": {},
   "outputs": [
    {
     "data": {
      "application/vnd.jupyter.widget-view+json": {
       "model_id": "8fde2bb9056f43ac8140e7b93f71c1da",
       "version_major": 2,
       "version_minor": 0
      },
      "text/plain": [
       "HBox(children=(IntProgress(value=0, description='Epoch', max=1), HTML(value='')))"
      ]
     },
     "metadata": {},
     "output_type": "display_data"
    },
    {
     "name": "stdout",
     "output_type": "stream",
     "text": [
      "epoch      trn_loss   val_loss                          \n",
      "    0      15.689251  17.965502 \n",
      "\n"
     ]
    }
   ],
   "source": [
    "m.lr_find()"
   ]
  },
  {
   "cell_type": "code",
   "execution_count": 30,
   "metadata": {},
   "outputs": [
    {
     "data": {
      "image/png": "[encoded data removed]",
      "text/plain": [
       "<Figure size 432x288 with 1 Axes>"
      ]
     },
     "metadata": {},
     "output_type": "display_data"
    }
   ],
   "source": [
    "m.sched.plot(100)"
   ]
  },
  {
   "cell_type": "code",
   "execution_count": 31,
   "metadata": {},
   "outputs": [
    {
     "data": {
      "image/png": "[encoded data removed]",
      "text/plain": [
       "<Figure size 432x288 with 1 Axes>"
      ]
     },
     "metadata": {},
     "output_type": "display_data"
    }
   ],
   "source": [
    "m.sched.plot(1)"
   ]
  },
  {
   "cell_type": "code",
   "execution_count": null,
   "metadata": {},
   "outputs": [],
   "source": []
  }
 ],
 "metadata": {
  "kernelspec": {
   "display_name": "Python 3",
   "language": "python",
   "name": "python3"
  },
  "language_info": {
   "codemirror_mode": {
    "name": "ipython",
    "version": 3
   },
   "file_extension": ".py",
   "mimetype": "text/x-python",
   "name": "python",
   "nbconvert_exporter": "python",
   "pygments_lexer": "ipython3",
   "version": "3.6.5"
  }
 },
 "nbformat": 4,
 "nbformat_minor": 2
}
